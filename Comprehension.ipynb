{
 "cells": [
  {
   "cell_type": "code",
   "execution_count": 3,
   "id": "7d437a3f-86bb-415b-84a3-97202434b3c4",
   "metadata": {},
   "outputs": [],
   "source": [
    "l=[1,2,3,4,5,6]  #find square of all the elements of this list"
   ]
  },
  {
   "cell_type": "code",
   "execution_count": 4,
   "id": "5ccc9324-5f1a-4e03-b636-5accca965ed5",
   "metadata": {},
   "outputs": [
    {
     "data": {
      "text/plain": [
       "[1, 4, 9, 16, 25, 36]"
      ]
     },
     "execution_count": 4,
     "metadata": {},
     "output_type": "execute_result"
    }
   ],
   "source": [
    "[i**2 for i in l]"
   ]
  },
  {
   "cell_type": "code",
   "execution_count": 5,
   "id": "e259a6d1-60c2-4d87-acac-1c976b65b21a",
   "metadata": {},
   "outputs": [
    {
     "data": {
      "text/plain": [
       "[2, 4, 6]"
      ]
     },
     "execution_count": 5,
     "metadata": {},
     "output_type": "execute_result"
    }
   ],
   "source": [
    "[i for i in l if i%2==0]  #find even numbers in the list"
   ]
  },
  {
   "cell_type": "code",
   "execution_count": 6,
   "id": "c07df9a2-c106-4ae7-851a-fec3c8723ee0",
   "metadata": {},
   "outputs": [],
   "source": [
    "l1=['sudh','pwskills','kumar','data science masters']  #convert all the strings in upper case"
   ]
  },
  {
   "cell_type": "code",
   "execution_count": 9,
   "id": "5a77bbd7-8fdc-41a2-be00-16a8926c3d57",
   "metadata": {},
   "outputs": [
    {
     "data": {
      "text/plain": [
       "['SUDH', 'PWSKILLS', 'KUMAR', 'DATA SCIENCE MASTERS']"
      ]
     },
     "execution_count": 9,
     "metadata": {},
     "output_type": "execute_result"
    }
   ],
   "source": [
    "[i.upper()for i in l1]"
   ]
  },
  {
   "cell_type": "code",
   "execution_count": 13,
   "id": "9bc1f6a5-5e75-46f3-80b8-7e77441c15db",
   "metadata": {},
   "outputs": [],
   "source": [
    "d={'key1':1,'key2':2,'key3':3,'key4':4}  #find out all the values then square the values and return it"
   ]
  },
  {
   "cell_type": "code",
   "execution_count": 14,
   "id": "6cc1f89c-0da4-4b2c-bf13-235fcdd59d06",
   "metadata": {},
   "outputs": [
    {
     "data": {
      "text/plain": [
       "{'key1': 1, 'key2': 4, 'key3': 9, 'key4': 16}"
      ]
     },
     "execution_count": 14,
     "metadata": {},
     "output_type": "execute_result"
    }
   ],
   "source": [
    "{k:v**2 for k,v in d.items()}"
   ]
  },
  {
   "cell_type": "code",
   "execution_count": 16,
   "id": "f440e8e3-30b6-4d74-ae98-d3c31f8e0a16",
   "metadata": {},
   "outputs": [
    {
     "data": {
      "text/plain": [
       "{'key2': 2, 'key3': 3, 'key4': 4}"
      ]
     },
     "execution_count": 16,
     "metadata": {},
     "output_type": "execute_result"
    }
   ],
   "source": [
    "{k:v for k,v in d.items() if v>1} #find only that values which is greater than 1"
   ]
  },
  {
   "cell_type": "code",
   "execution_count": 18,
   "id": "5622978e-7050-4e4c-aa87-40715cb3f0ac",
   "metadata": {},
   "outputs": [
    {
     "data": {
      "text/plain": [
       "[1, 2, 3, 4, 5, 6]"
      ]
     },
     "execution_count": 18,
     "metadata": {},
     "output_type": "execute_result"
    }
   ],
   "source": [
    "l  #square all the values and return in tuples"
   ]
  },
  {
   "cell_type": "code",
   "execution_count": 24,
   "id": "d5fbbe2f-1790-4970-87bd-f22f73731546",
   "metadata": {},
   "outputs": [
    {
     "data": {
      "text/plain": [
       "<generator object <genexpr> at 0x7fbc20363ca0>"
      ]
     },
     "execution_count": 24,
     "metadata": {},
     "output_type": "execute_result"
    }
   ],
   "source": [
    "(i*2 for i in l)  #(tuple me answer generate ho gya h tuple comprehension ho gya h par prin ke liye list ka use karenge)"
   ]
  },
  {
   "cell_type": "code",
   "execution_count": 25,
   "id": "eef960eb-432f-4ba6-abf0-841ea6bee7fd",
   "metadata": {},
   "outputs": [
    {
     "data": {
      "text/plain": [
       "[2, 4, 6, 8, 10, 12]"
      ]
     },
     "execution_count": 25,
     "metadata": {},
     "output_type": "execute_result"
    }
   ],
   "source": [
    "list(i*2 for i in l)  #(tuple me hi h par print karne ke liye list ya for loop lagega)"
   ]
  },
  {
   "cell_type": "code",
   "execution_count": null,
   "id": "b5238c1c-a07e-4921-9a0b-d3d72475f592",
   "metadata": {},
   "outputs": [],
   "source": []
  }
 ],
 "metadata": {
  "kernelspec": {
   "display_name": "Python 3 (ipykernel)",
   "language": "python",
   "name": "python3"
  },
  "language_info": {
   "codemirror_mode": {
    "name": "ipython",
    "version": 3
   },
   "file_extension": ".py",
   "mimetype": "text/x-python",
   "name": "python",
   "nbconvert_exporter": "python",
   "pygments_lexer": "ipython3",
   "version": "3.10.6"
  }
 },
 "nbformat": 4,
 "nbformat_minor": 5
}
