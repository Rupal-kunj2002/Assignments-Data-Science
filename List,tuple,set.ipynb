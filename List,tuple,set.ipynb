{
 "cells": [
  {
   "cell_type": "code",
   "execution_count": 1,
   "id": "f26990d0-5c0e-4ea7-a55d-b61db3175414",
   "metadata": {},
   "outputs": [],
   "source": [
    "l=[1,345,45,\"rupal\",True,5+7j,345.456]"
   ]
  },
  {
   "cell_type": "code",
   "execution_count": 2,
   "id": "5f3298a6-7ca7-4f7d-b291-f52a7b4d4bf2",
   "metadata": {},
   "outputs": [
    {
     "data": {
      "text/plain": [
       "list"
      ]
     },
     "execution_count": 2,
     "metadata": {},
     "output_type": "execute_result"
    }
   ],
   "source": [
    "type(l)"
   ]
  },
  {
   "cell_type": "code",
   "execution_count": 3,
   "id": "934dc0ab-4128-41a7-a4ac-0313db4b7d74",
   "metadata": {},
   "outputs": [
    {
     "name": "stdout",
     "output_type": "stream",
     "text": [
      "[1, 345, 45, 'rupal', True, (5+7j), 345.456]\n"
     ]
    }
   ],
   "source": [
    "print(l)"
   ]
  },
  {
   "cell_type": "code",
   "execution_count": 4,
   "id": "48c6ac43-118e-4f0e-a71c-4ec91a433e6d",
   "metadata": {},
   "outputs": [
    {
     "data": {
      "text/plain": [
       "1"
      ]
     },
     "execution_count": 4,
     "metadata": {},
     "output_type": "execute_result"
    }
   ],
   "source": [
    "l[0]"
   ]
  },
  {
   "cell_type": "code",
   "execution_count": 5,
   "id": "65055cd1-8381-4927-a35f-979510596090",
   "metadata": {},
   "outputs": [
    {
     "data": {
      "text/plain": [
       "345.456"
      ]
     },
     "execution_count": 5,
     "metadata": {},
     "output_type": "execute_result"
    }
   ],
   "source": [
    "l[6]"
   ]
  },
  {
   "cell_type": "code",
   "execution_count": 6,
   "id": "be5e4efe-600f-4c7c-bcd5-7cfac96a348a",
   "metadata": {},
   "outputs": [
    {
     "data": {
      "text/plain": [
       "(5+7j)"
      ]
     },
     "execution_count": 6,
     "metadata": {},
     "output_type": "execute_result"
    }
   ],
   "source": [
    "l[5]"
   ]
  },
  {
   "cell_type": "code",
   "execution_count": 7,
   "id": "4e4db1a2-f12f-4fef-8e04-7e07330fc695",
   "metadata": {},
   "outputs": [
    {
     "data": {
      "text/plain": [
       "True"
      ]
     },
     "execution_count": 7,
     "metadata": {},
     "output_type": "execute_result"
    }
   ],
   "source": [
    "l[4]"
   ]
  },
  {
   "cell_type": "code",
   "execution_count": 8,
   "id": "640cae3e-e9a4-4a7e-be67-09b1b45144a9",
   "metadata": {},
   "outputs": [
    {
     "ename": "IndexError",
     "evalue": "list index out of range",
     "output_type": "error",
     "traceback": [
      "\u001b[0;31m---------------------------------------------------------------------------\u001b[0m",
      "\u001b[0;31mIndexError\u001b[0m                                Traceback (most recent call last)",
      "Cell \u001b[0;32mIn [8], line 1\u001b[0m\n\u001b[0;32m----> 1\u001b[0m \u001b[43ml\u001b[49m\u001b[43m[\u001b[49m\u001b[38;5;241;43m90\u001b[39;49m\u001b[43m]\u001b[49m\n",
      "\u001b[0;31mIndexError\u001b[0m: list index out of range"
     ]
    }
   ],
   "source": [
    "l[90]"
   ]
  },
  {
   "cell_type": "code",
   "execution_count": null,
   "id": "ca432399-16e0-44bd-9b8d-426c753d7d67",
   "metadata": {},
   "outputs": [],
   "source": [
    "l[0:3] # 0 se 2 tak ke sare elements print karega"
   ]
  },
  {
   "cell_type": "code",
   "execution_count": null,
   "id": "c6882f48-bf91-4370-963d-7ad799ff11c0",
   "metadata": {},
   "outputs": [],
   "source": [
    "l[-1] #reverse me pehla element dega qki reverse indexing bhi hota h"
   ]
  },
  {
   "cell_type": "code",
   "execution_count": null,
   "id": "e155ac5f-5490-4c88-a5a1-6791f030b0fe",
   "metadata": {},
   "outputs": [],
   "source": [
    "l[::-1] #reverse kar rhe list ko"
   ]
  },
  {
   "cell_type": "code",
   "execution_count": null,
   "id": "8fcf570d-cb8f-4f7c-b34a-d1da08ca5b29",
   "metadata": {},
   "outputs": [],
   "source": [
    "l[::2] #Even index ke data ko access karo"
   ]
  },
  {
   "cell_type": "code",
   "execution_count": null,
   "id": "83de8075-ffbc-47d4-9806-9baf5c629fef",
   "metadata": {},
   "outputs": [],
   "source": [
    "s='pwskills'"
   ]
  },
  {
   "cell_type": "code",
   "execution_count": null,
   "id": "7ff38f7c-86a2-4cdf-a260-ad5b3a99ddf6",
   "metadata": {},
   "outputs": [],
   "source": [
    "type(s)"
   ]
  },
  {
   "cell_type": "code",
   "execution_count": null,
   "id": "8791f98a-0815-4c30-86f0-1465dbe80ad0",
   "metadata": {},
   "outputs": [],
   "source": [
    "l=[1,345,45,\"rupal\",True,5+7j,345.456]"
   ]
  },
  {
   "cell_type": "code",
   "execution_count": null,
   "id": "9c6e56f8-e65e-4c27-80d3-26dc42651048",
   "metadata": {},
   "outputs": [],
   "source": [
    "l+s"
   ]
  },
  {
   "cell_type": "code",
   "execution_count": null,
   "id": "59506ff9-98b7-4e22-ada2-989de9aa4856",
   "metadata": {},
   "outputs": [],
   "source": [
    "list(s)"
   ]
  },
  {
   "cell_type": "code",
   "execution_count": null,
   "id": "d7a8e3ce-3a8c-4c1e-b0a1-2a3a0c969bd8",
   "metadata": {},
   "outputs": [],
   "source": [
    "list(s)+l"
   ]
  },
  {
   "cell_type": "code",
   "execution_count": null,
   "id": "22ab6b1d-1451-4e17-8d25-d6749d07cbd9",
   "metadata": {},
   "outputs": [],
   "source": [
    "l"
   ]
  },
  {
   "cell_type": "code",
   "execution_count": 11,
   "id": "f4cfe5b0-dfab-412c-86a8-f7148c43d946",
   "metadata": {},
   "outputs": [
    {
     "data": {
      "text/plain": [
       "'rupal'"
      ]
     },
     "execution_count": 11,
     "metadata": {},
     "output_type": "execute_result"
    }
   ],
   "source": [
    "l[3]"
   ]
  },
  {
   "cell_type": "code",
   "execution_count": 12,
   "id": "7563a653-53ed-435b-badf-e35c6f06249f",
   "metadata": {},
   "outputs": [
    {
     "data": {
      "text/plain": [
       "'ru'"
      ]
     },
     "execution_count": 12,
     "metadata": {},
     "output_type": "execute_result"
    }
   ],
   "source": [
    "l[3][0:2]"
   ]
  },
  {
   "cell_type": "code",
   "execution_count": 13,
   "id": "83404f7b-59a3-49d1-b6e7-b2c8d6c672ba",
   "metadata": {},
   "outputs": [
    {
     "data": {
      "text/plain": [
       "True"
      ]
     },
     "execution_count": 13,
     "metadata": {},
     "output_type": "execute_result"
    }
   ],
   "source": [
    "l[4]"
   ]
  },
  {
   "cell_type": "code",
   "execution_count": 14,
   "id": "5cc71baa-2fa5-4bba-94cc-1bf57ac03224",
   "metadata": {},
   "outputs": [
    {
     "data": {
      "text/plain": [
       "'True'"
      ]
     },
     "execution_count": 14,
     "metadata": {},
     "output_type": "execute_result"
    }
   ],
   "source": [
    "str(l[4])"
   ]
  },
  {
   "cell_type": "code",
   "execution_count": 15,
   "id": "60b520ac-28e9-4860-94b1-c203c408693b",
   "metadata": {},
   "outputs": [
    {
     "data": {
      "text/plain": [
       "'Tr'"
      ]
     },
     "execution_count": 15,
     "metadata": {},
     "output_type": "execute_result"
    }
   ],
   "source": [
    "str(l[4])[0:2]"
   ]
  },
  {
   "cell_type": "code",
   "execution_count": 16,
   "id": "03b63da4-04f1-4708-a808-aa1406cb1eae",
   "metadata": {},
   "outputs": [],
   "source": [
    "l=[1,345,45,\"rupal\",True,5+7j,345.456]"
   ]
  },
  {
   "cell_type": "code",
   "execution_count": 17,
   "id": "fdeca98b-4102-41b5-b452-2c2cda8c5003",
   "metadata": {},
   "outputs": [],
   "source": [
    "s='pwskills'"
   ]
  },
  {
   "cell_type": "code",
   "execution_count": 18,
   "id": "2ad37a8f-0950-4936-950e-873528758b3f",
   "metadata": {},
   "outputs": [
    {
     "data": {
      "text/plain": [
       "[1, 345, 45, 'rupal', True, (5+7j), 345.456]"
      ]
     },
     "execution_count": 18,
     "metadata": {},
     "output_type": "execute_result"
    }
   ],
   "source": [
    "l"
   ]
  },
  {
   "cell_type": "code",
   "execution_count": 19,
   "id": "78446542-1d89-4e1e-b9fc-6d946ef84d10",
   "metadata": {},
   "outputs": [
    {
     "data": {
      "text/plain": [
       "'pwskills'"
      ]
     },
     "execution_count": 19,
     "metadata": {},
     "output_type": "execute_result"
    }
   ],
   "source": [
    "s"
   ]
  },
  {
   "cell_type": "code",
   "execution_count": 20,
   "id": "3035c169-dda0-4660-824f-007e750d937e",
   "metadata": {},
   "outputs": [],
   "source": [
    "l1=[3,4,5]"
   ]
  },
  {
   "cell_type": "code",
   "execution_count": 21,
   "id": "6453d575-f2d2-491b-bbbc-03542feb89e2",
   "metadata": {},
   "outputs": [
    {
     "data": {
      "text/plain": [
       "[3, 4, 5]"
      ]
     },
     "execution_count": 21,
     "metadata": {},
     "output_type": "execute_result"
    }
   ],
   "source": [
    "l1"
   ]
  },
  {
   "cell_type": "code",
   "execution_count": 22,
   "id": "fc0066a5-a97b-4e1f-bb7b-35d01107f530",
   "metadata": {},
   "outputs": [
    {
     "data": {
      "text/plain": [
       "[1, 345, 45, 'rupal', True, (5+7j), 345.456, 3, 4, 5]"
      ]
     },
     "execution_count": 22,
     "metadata": {},
     "output_type": "execute_result"
    }
   ],
   "source": [
    "l+l1"
   ]
  },
  {
   "cell_type": "code",
   "execution_count": 23,
   "id": "f4d67ef0-5a88-4fba-b328-a6ee257a2c03",
   "metadata": {},
   "outputs": [
    {
     "data": {
      "text/plain": [
       "[3, 4, 5, 3, 4, 5, 3, 4, 5]"
      ]
     },
     "execution_count": 23,
     "metadata": {},
     "output_type": "execute_result"
    }
   ],
   "source": [
    "l1*3"
   ]
  },
  {
   "cell_type": "code",
   "execution_count": 24,
   "id": "6dd30204-d6b2-4680-a9e9-ea89d1a22d81",
   "metadata": {},
   "outputs": [],
   "source": [
    "l.append(5)"
   ]
  },
  {
   "cell_type": "code",
   "execution_count": 25,
   "id": "ba3f379f-c014-4e1a-a92f-74f23b36fca6",
   "metadata": {},
   "outputs": [
    {
     "data": {
      "text/plain": [
       "[1, 345, 45, 'rupal', True, (5+7j), 345.456, 5]"
      ]
     },
     "execution_count": 25,
     "metadata": {},
     "output_type": "execute_result"
    }
   ],
   "source": [
    "l"
   ]
  },
  {
   "cell_type": "code",
   "execution_count": 26,
   "id": "da6c1f39-b7ff-4747-a3ca-6f4c8829a244",
   "metadata": {},
   "outputs": [],
   "source": [
    "l.append(s)"
   ]
  },
  {
   "cell_type": "code",
   "execution_count": 27,
   "id": "a65a09c0-c693-4f67-a253-eb85899278f1",
   "metadata": {},
   "outputs": [
    {
     "data": {
      "text/plain": [
       "[1, 345, 45, 'rupal', True, (5+7j), 345.456, 5, 'pwskills']"
      ]
     },
     "execution_count": 27,
     "metadata": {},
     "output_type": "execute_result"
    }
   ],
   "source": [
    "l"
   ]
  },
  {
   "cell_type": "code",
   "execution_count": 28,
   "id": "e71e7f9f-50a8-49c4-987a-2eff0642a630",
   "metadata": {},
   "outputs": [],
   "source": [
    "l.append(l1)"
   ]
  },
  {
   "cell_type": "code",
   "execution_count": 29,
   "id": "a1955b7d-bbc5-43ab-ac46-54a05c14a6f9",
   "metadata": {},
   "outputs": [
    {
     "data": {
      "text/plain": [
       "[1, 345, 45, 'rupal', True, (5+7j), 345.456, 5, 'pwskills', [3, 4, 5]]"
      ]
     },
     "execution_count": 29,
     "metadata": {},
     "output_type": "execute_result"
    }
   ],
   "source": [
    "l"
   ]
  },
  {
   "cell_type": "code",
   "execution_count": 30,
   "id": "c14da49b-7eaf-49db-bc8b-f66cafe99549",
   "metadata": {},
   "outputs": [
    {
     "data": {
      "text/plain": [
       "[3, 4, 5]"
      ]
     },
     "execution_count": 30,
     "metadata": {},
     "output_type": "execute_result"
    }
   ],
   "source": [
    "l[9]#Now find 4 from above list 'l'"
   ]
  },
  {
   "cell_type": "code",
   "execution_count": 31,
   "id": "b2a7348e-c8e5-4bd8-bedc-0ad7b3063095",
   "metadata": {},
   "outputs": [
    {
     "data": {
      "text/plain": [
       "[4]"
      ]
     },
     "execution_count": 31,
     "metadata": {},
     "output_type": "execute_result"
    }
   ],
   "source": [
    "l[9][1:2] #From forward indexing in list"
   ]
  },
  {
   "cell_type": "code",
   "execution_count": 32,
   "id": "6734483b-316a-4b16-a111-8a97749b527e",
   "metadata": {},
   "outputs": [
    {
     "data": {
      "text/plain": [
       "[4]"
      ]
     },
     "execution_count": 32,
     "metadata": {},
     "output_type": "execute_result"
    }
   ],
   "source": [
    "l[-1][1:2]#from backward indexing in list"
   ]
  },
  {
   "cell_type": "code",
   "execution_count": 33,
   "id": "8e8fba45-df99-4d2a-8569-a51d724c9927",
   "metadata": {},
   "outputs": [
    {
     "data": {
      "text/plain": [
       "[4]"
      ]
     },
     "execution_count": 33,
     "metadata": {},
     "output_type": "execute_result"
    }
   ],
   "source": [
    "l[-1][-2:-3:-1]#from backward and backward indexing in list"
   ]
  },
  {
   "cell_type": "code",
   "execution_count": 34,
   "id": "804c93aa-f874-452f-b7de-f65ff03d116c",
   "metadata": {},
   "outputs": [
    {
     "data": {
      "text/plain": [
       "4"
      ]
     },
     "execution_count": 34,
     "metadata": {},
     "output_type": "execute_result"
    }
   ],
   "source": [
    "l[-1][-2]#backward backward"
   ]
  },
  {
   "cell_type": "code",
   "execution_count": 35,
   "id": "bde585a8-8aae-48f4-8d47-7349b3ddddf8",
   "metadata": {},
   "outputs": [
    {
     "data": {
      "text/plain": [
       "4"
      ]
     },
     "execution_count": 35,
     "metadata": {},
     "output_type": "execute_result"
    }
   ],
   "source": [
    "l[-1][1]#backward forward"
   ]
  },
  {
   "cell_type": "code",
   "execution_count": 36,
   "id": "6835d2ff-4c27-42b3-b3ac-de06d5d4cc93",
   "metadata": {},
   "outputs": [
    {
     "data": {
      "text/plain": [
       "[]"
      ]
     },
     "execution_count": 36,
     "metadata": {},
     "output_type": "execute_result"
    }
   ],
   "source": [
    "l[-1][-2:-3]  #by default jump 1 hai is liye blank"
   ]
  },
  {
   "cell_type": "code",
   "execution_count": 37,
   "id": "5944280b-e919-4b62-99ce-bc157ed95892",
   "metadata": {},
   "outputs": [],
   "source": [
    "l=[1, 345, 45, 'rupal', True, (5+7j), 345.456, 5, 'pwskills', [3, 4, 5]]"
   ]
  },
  {
   "cell_type": "code",
   "execution_count": 38,
   "id": "dd7ab30e-98ef-4046-8921-31e1fd154f56",
   "metadata": {},
   "outputs": [
    {
     "data": {
      "text/plain": [
       "[1, 345, 45, 'rupal', True, (5+7j), 345.456, 5, 'pwskills', [3, 4, 5]]"
      ]
     },
     "execution_count": 38,
     "metadata": {},
     "output_type": "execute_result"
    }
   ],
   "source": [
    "l"
   ]
  },
  {
   "cell_type": "code",
   "execution_count": 39,
   "id": "49158aa6-0f6c-4d4a-b947-7300270d8bab",
   "metadata": {},
   "outputs": [
    {
     "ename": "TypeError",
     "evalue": "'int' object is not iterable",
     "output_type": "error",
     "traceback": [
      "\u001b[0;31m---------------------------------------------------------------------------\u001b[0m",
      "\u001b[0;31mTypeError\u001b[0m                                 Traceback (most recent call last)",
      "Cell \u001b[0;32mIn [39], line 1\u001b[0m\n\u001b[0;32m----> 1\u001b[0m \u001b[43ml\u001b[49m\u001b[38;5;241;43m.\u001b[39;49m\u001b[43mextend\u001b[49m\u001b[43m(\u001b[49m\u001b[38;5;241;43m200\u001b[39;49m\u001b[43m)\u001b[49m\n",
      "\u001b[0;31mTypeError\u001b[0m: 'int' object is not iterable"
     ]
    }
   ],
   "source": [
    "l.extend(200)"
   ]
  },
  {
   "cell_type": "code",
   "execution_count": null,
   "id": "32c9373b-e8c8-4e5d-9224-97aa1c30d5e3",
   "metadata": {},
   "outputs": [],
   "source": [
    "l.extend('ru')"
   ]
  },
  {
   "cell_type": "code",
   "execution_count": null,
   "id": "ebe81228-ed5e-42bd-8cfd-fa55eb45c157",
   "metadata": {},
   "outputs": [],
   "source": [
    "l"
   ]
  },
  {
   "cell_type": "code",
   "execution_count": 40,
   "id": "de106b67-87b0-413b-97a8-aed8cd3a524f",
   "metadata": {},
   "outputs": [],
   "source": [
    "l.extend([3,4,5])"
   ]
  },
  {
   "cell_type": "code",
   "execution_count": 41,
   "id": "b3c36724-33b1-4ea6-b8f3-628781949484",
   "metadata": {},
   "outputs": [
    {
     "data": {
      "text/plain": [
       "[1, 345, 45, 'rupal', True, (5+7j), 345.456, 5, 'pwskills', [3, 4, 5], 3, 4, 5]"
      ]
     },
     "execution_count": 41,
     "metadata": {},
     "output_type": "execute_result"
    }
   ],
   "source": [
    "l"
   ]
  },
  {
   "cell_type": "code",
   "execution_count": 42,
   "id": "33fe39d4-d5d5-4e9a-8f6b-19e53e62b692",
   "metadata": {},
   "outputs": [
    {
     "data": {
      "text/plain": [
       "[3, 4, 5]"
      ]
     },
     "execution_count": 42,
     "metadata": {},
     "output_type": "execute_result"
    }
   ],
   "source": [
    "l1"
   ]
  },
  {
   "cell_type": "code",
   "execution_count": 43,
   "id": "e7111d34-eef3-48c2-8200-c51f64213953",
   "metadata": {},
   "outputs": [],
   "source": [
    "l1.insert(1,\"rupal\")"
   ]
  },
  {
   "cell_type": "code",
   "execution_count": 44,
   "id": "0bbd1b7a-ab4e-4d8f-a6e5-709c79fa15ad",
   "metadata": {},
   "outputs": [
    {
     "data": {
      "text/plain": [
       "[3, 'rupal', 4, 5]"
      ]
     },
     "execution_count": 44,
     "metadata": {},
     "output_type": "execute_result"
    }
   ],
   "source": [
    "l1"
   ]
  },
  {
   "cell_type": "code",
   "execution_count": 45,
   "id": "c4b95a4e-ede2-42dd-90ed-b90e9b70f760",
   "metadata": {},
   "outputs": [],
   "source": [
    "l1.insert(2,[2,3,4])"
   ]
  },
  {
   "cell_type": "code",
   "execution_count": 46,
   "id": "a8126297-692f-4880-90ee-14a277e0bd48",
   "metadata": {},
   "outputs": [
    {
     "data": {
      "text/plain": [
       "[3, 'rupal', [2, 3, 4], 4, 5]"
      ]
     },
     "execution_count": 46,
     "metadata": {},
     "output_type": "execute_result"
    }
   ],
   "source": [
    "l1"
   ]
  },
  {
   "cell_type": "code",
   "execution_count": 47,
   "id": "581d96a1-d215-4d93-9e9e-bbc1d252d4b6",
   "metadata": {},
   "outputs": [],
   "source": [
    "l1.insert(0,45)"
   ]
  },
  {
   "cell_type": "code",
   "execution_count": 48,
   "id": "91de92f7-dc2b-4d04-9d80-808774c58da8",
   "metadata": {},
   "outputs": [
    {
     "data": {
      "text/plain": [
       "[45, 3, 'rupal', [2, 3, 4], 4, 5]"
      ]
     },
     "execution_count": 48,
     "metadata": {},
     "output_type": "execute_result"
    }
   ],
   "source": [
    "l1"
   ]
  },
  {
   "cell_type": "code",
   "execution_count": 49,
   "id": "217041ad-51c8-4e35-ad05-4d31e5cba409",
   "metadata": {},
   "outputs": [],
   "source": [
    "l1.insert(-1,45)"
   ]
  },
  {
   "cell_type": "code",
   "execution_count": 50,
   "id": "f3524755-2d1a-479b-812a-7d9c91706cff",
   "metadata": {},
   "outputs": [
    {
     "data": {
      "text/plain": [
       "[45, 3, 'rupal', [2, 3, 4], 4, 45, 5]"
      ]
     },
     "execution_count": 50,
     "metadata": {},
     "output_type": "execute_result"
    }
   ],
   "source": [
    "l1"
   ]
  },
  {
   "cell_type": "code",
   "execution_count": 51,
   "id": "20a6e66b-ef7f-44a4-b704-b2a5f11546de",
   "metadata": {},
   "outputs": [
    {
     "data": {
      "text/plain": [
       "5"
      ]
     },
     "execution_count": 51,
     "metadata": {},
     "output_type": "execute_result"
    }
   ],
   "source": [
    "l1.pop()"
   ]
  },
  {
   "cell_type": "code",
   "execution_count": 52,
   "id": "0d137df3-7bf3-4ade-839a-7b4b807ccab3",
   "metadata": {},
   "outputs": [
    {
     "data": {
      "text/plain": [
       "[45, 3, 'rupal', [2, 3, 4], 4, 45]"
      ]
     },
     "execution_count": 52,
     "metadata": {},
     "output_type": "execute_result"
    }
   ],
   "source": [
    "l1"
   ]
  },
  {
   "cell_type": "code",
   "execution_count": 53,
   "id": "03a3d89f-25b8-47a5-aad9-17d746e4b9c3",
   "metadata": {},
   "outputs": [
    {
     "data": {
      "text/plain": [
       "[2, 3, 4]"
      ]
     },
     "execution_count": 53,
     "metadata": {},
     "output_type": "execute_result"
    }
   ],
   "source": [
    "l1.pop(3)"
   ]
  },
  {
   "cell_type": "code",
   "execution_count": 54,
   "id": "a94ab526-33e0-4145-a423-5adcb0b32fb8",
   "metadata": {},
   "outputs": [
    {
     "data": {
      "text/plain": [
       "[45, 3, 'rupal', 4, 45]"
      ]
     },
     "execution_count": 54,
     "metadata": {},
     "output_type": "execute_result"
    }
   ],
   "source": [
    "l1"
   ]
  },
  {
   "cell_type": "code",
   "execution_count": 55,
   "id": "cae176e8-9f9a-4791-b7fb-33d160ee5ea0",
   "metadata": {},
   "outputs": [],
   "source": [
    "l1.remove(3)"
   ]
  },
  {
   "cell_type": "code",
   "execution_count": 56,
   "id": "defa870e-c353-4ff0-b055-be9d2f2cc710",
   "metadata": {},
   "outputs": [
    {
     "data": {
      "text/plain": [
       "[45, 'rupal', 4, 45]"
      ]
     },
     "execution_count": 56,
     "metadata": {},
     "output_type": "execute_result"
    }
   ],
   "source": [
    "l1"
   ]
  },
  {
   "cell_type": "code",
   "execution_count": 57,
   "id": "4517cc70-b814-4a9e-8910-1da9e8461aac",
   "metadata": {},
   "outputs": [
    {
     "ename": "ValueError",
     "evalue": "list.remove(x): x not in list",
     "output_type": "error",
     "traceback": [
      "\u001b[0;31m---------------------------------------------------------------------------\u001b[0m",
      "\u001b[0;31mValueError\u001b[0m                                Traceback (most recent call last)",
      "Cell \u001b[0;32mIn [57], line 1\u001b[0m\n\u001b[0;32m----> 1\u001b[0m \u001b[43ml1\u001b[49m\u001b[38;5;241;43m.\u001b[39;49m\u001b[43mremove\u001b[49m\u001b[43m(\u001b[49m\u001b[38;5;241;43m234\u001b[39;49m\u001b[43m)\u001b[49m\n",
      "\u001b[0;31mValueError\u001b[0m: list.remove(x): x not in list"
     ]
    }
   ],
   "source": [
    "l1.remove(234)"
   ]
  },
  {
   "cell_type": "code",
   "execution_count": 58,
   "id": "b7f89f38-12ec-4149-a199-030d06b1c7ab",
   "metadata": {},
   "outputs": [
    {
     "ename": "IndexError",
     "evalue": "pop index out of range",
     "output_type": "error",
     "traceback": [
      "\u001b[0;31m---------------------------------------------------------------------------\u001b[0m",
      "\u001b[0;31mIndexError\u001b[0m                                Traceback (most recent call last)",
      "Cell \u001b[0;32mIn [58], line 1\u001b[0m\n\u001b[0;32m----> 1\u001b[0m \u001b[43ml1\u001b[49m\u001b[38;5;241;43m.\u001b[39;49m\u001b[43mpop\u001b[49m\u001b[43m(\u001b[49m\u001b[38;5;241;43m5\u001b[39;49m\u001b[43m)\u001b[49m\n",
      "\u001b[0;31mIndexError\u001b[0m: pop index out of range"
     ]
    }
   ],
   "source": [
    "l1.pop(5)"
   ]
  },
  {
   "cell_type": "code",
   "execution_count": 17,
   "id": "8f68e4ba-32ae-4fbf-a268-c331014e4edc",
   "metadata": {},
   "outputs": [],
   "source": [
    "l2=[45,'rupal',[2,3,4],4]"
   ]
  },
  {
   "cell_type": "code",
   "execution_count": 18,
   "id": "0139c320-1769-485f-8dca-584055eedb3a",
   "metadata": {},
   "outputs": [
    {
     "data": {
      "text/plain": [
       "[45, 'rupal', [2, 3, 4], 4]"
      ]
     },
     "execution_count": 18,
     "metadata": {},
     "output_type": "execute_result"
    }
   ],
   "source": [
    "l2"
   ]
  },
  {
   "cell_type": "code",
   "execution_count": 78,
   "id": "b72c6af2-ecb4-41a8-9954-e3959c308256",
   "metadata": {},
   "outputs": [],
   "source": [
    "l2[2].remove(3)"
   ]
  },
  {
   "cell_type": "code",
   "execution_count": 79,
   "id": "5320b574-e60f-4d68-8c7d-734f495c54b5",
   "metadata": {},
   "outputs": [
    {
     "data": {
      "text/plain": [
       "[45, 'rupal', [2, 4], 4]"
      ]
     },
     "execution_count": 79,
     "metadata": {},
     "output_type": "execute_result"
    }
   ],
   "source": [
    "l2"
   ]
  },
  {
   "cell_type": "code",
   "execution_count": 80,
   "id": "da6b4b84-0bd9-4415-81ff-b442e4773b0a",
   "metadata": {},
   "outputs": [
    {
     "data": {
      "text/plain": [
       "2"
      ]
     },
     "execution_count": 80,
     "metadata": {},
     "output_type": "execute_result"
    }
   ],
   "source": [
    "l2[2].pop(0)"
   ]
  },
  {
   "cell_type": "code",
   "execution_count": 81,
   "id": "2c445e92-2511-49d2-9bb4-eb2aadda970e",
   "metadata": {},
   "outputs": [
    {
     "data": {
      "text/plain": [
       "[45, 'rupal', [4], 4]"
      ]
     },
     "execution_count": 81,
     "metadata": {},
     "output_type": "execute_result"
    }
   ],
   "source": [
    "l2"
   ]
  },
  {
   "cell_type": "code",
   "execution_count": 82,
   "id": "3ab3e548-b80a-4825-8ff4-c85a57a5a5a1",
   "metadata": {},
   "outputs": [],
   "source": [
    "l2[2].append(2)"
   ]
  },
  {
   "cell_type": "code",
   "execution_count": 83,
   "id": "cef55d4b-a79c-47be-b5df-f6188c288038",
   "metadata": {},
   "outputs": [
    {
     "data": {
      "text/plain": [
       "[45, 'rupal', [4, 2], 4]"
      ]
     },
     "execution_count": 83,
     "metadata": {},
     "output_type": "execute_result"
    }
   ],
   "source": [
    "l2"
   ]
  },
  {
   "cell_type": "code",
   "execution_count": 84,
   "id": "c45d5f76-25ba-41d9-b1ff-829335aa9f4a",
   "metadata": {},
   "outputs": [],
   "source": [
    "l2[2].insert(0,2)"
   ]
  },
  {
   "cell_type": "code",
   "execution_count": 85,
   "id": "954a491d-b783-4b58-8a8d-f2ab64eacf2d",
   "metadata": {},
   "outputs": [
    {
     "data": {
      "text/plain": [
       "[45, 'rupal', [2, 4, 2], 4]"
      ]
     },
     "execution_count": 85,
     "metadata": {},
     "output_type": "execute_result"
    }
   ],
   "source": [
    "l2"
   ]
  },
  {
   "cell_type": "code",
   "execution_count": 86,
   "id": "6ef56290-189c-4a7d-814d-1ee932aeb60e",
   "metadata": {},
   "outputs": [],
   "source": [
    "l2[2].remove(2)"
   ]
  },
  {
   "cell_type": "code",
   "execution_count": 87,
   "id": "6b15e560-9787-415f-9acb-796dd030a11d",
   "metadata": {},
   "outputs": [
    {
     "data": {
      "text/plain": [
       "[45, 'rupal', [4, 2], 4]"
      ]
     },
     "execution_count": 87,
     "metadata": {},
     "output_type": "execute_result"
    }
   ],
   "source": [
    "l2"
   ]
  },
  {
   "cell_type": "code",
   "execution_count": 88,
   "id": "81d6cdf5-e4e8-4702-ac33-3cfba9ce0f0e",
   "metadata": {},
   "outputs": [],
   "source": [
    "l2[2].insert(0,2)"
   ]
  },
  {
   "cell_type": "code",
   "execution_count": 90,
   "id": "b18ed933-5a42-41b6-a057-f9f9238f7f88",
   "metadata": {},
   "outputs": [],
   "source": [
    "l2=[45, 'rupal', [2, 4], 4]"
   ]
  },
  {
   "cell_type": "code",
   "execution_count": 94,
   "id": "37118aff-5e0f-4ffa-a0e5-8ff937f49454",
   "metadata": {},
   "outputs": [
    {
     "data": {
      "text/plain": [
       "[45, 'rupal', [2, 4], 4]"
      ]
     },
     "execution_count": 94,
     "metadata": {},
     "output_type": "execute_result"
    }
   ],
   "source": [
    "l2"
   ]
  },
  {
   "cell_type": "code",
   "execution_count": 95,
   "id": "a2dcd7f0-00bb-4141-9dba-a3127c20e198",
   "metadata": {},
   "outputs": [],
   "source": [
    "s='pwskills'"
   ]
  },
  {
   "cell_type": "code",
   "execution_count": 96,
   "id": "bf4bf31e-d75c-4443-8f80-79a57750dbb7",
   "metadata": {},
   "outputs": [
    {
     "data": {
      "text/plain": [
       "'pwskills'"
      ]
     },
     "execution_count": 96,
     "metadata": {},
     "output_type": "execute_result"
    }
   ],
   "source": [
    "s"
   ]
  },
  {
   "cell_type": "code",
   "execution_count": 97,
   "id": "4aef4f76-dd0d-4dcc-9f31-e948d9112867",
   "metadata": {},
   "outputs": [
    {
     "ename": "AttributeError",
     "evalue": "'str' object has no attribute 'append'",
     "output_type": "error",
     "traceback": [
      "\u001b[0;31m---------------------------------------------------------------------------\u001b[0m",
      "\u001b[0;31mAttributeError\u001b[0m                            Traceback (most recent call last)",
      "Cell \u001b[0;32mIn [97], line 1\u001b[0m\n\u001b[0;32m----> 1\u001b[0m \u001b[43ms\u001b[49m\u001b[38;5;241;43m.\u001b[39;49m\u001b[43mappend\u001b[49m(\u001b[38;5;241m1\u001b[39m)\n",
      "\u001b[0;31mAttributeError\u001b[0m: 'str' object has no attribute 'append'"
     ]
    }
   ],
   "source": [
    "s.append(1)"
   ]
  },
  {
   "cell_type": "code",
   "execution_count": 98,
   "id": "45b2df3f-c818-4417-80c7-b7e3c34d51e4",
   "metadata": {},
   "outputs": [
    {
     "data": {
      "text/plain": [
       "[45, 'rupal', [2, 4], 4]"
      ]
     },
     "execution_count": 98,
     "metadata": {},
     "output_type": "execute_result"
    }
   ],
   "source": [
    "l2"
   ]
  },
  {
   "cell_type": "code",
   "execution_count": 111,
   "id": "a2b2d2c3-91f5-4930-80a7-84d24f4e3835",
   "metadata": {},
   "outputs": [
    {
     "data": {
      "text/plain": [
       "[4, [2, 4], 'rupal', 45]"
      ]
     },
     "execution_count": 111,
     "metadata": {},
     "output_type": "execute_result"
    }
   ],
   "source": [
    "l2[::-1] #temp reverse"
   ]
  },
  {
   "cell_type": "code",
   "execution_count": 100,
   "id": "40db7d9f-4efb-4f7d-9ef3-eaaa7530cd9d",
   "metadata": {},
   "outputs": [
    {
     "data": {
      "text/plain": [
       "[45, 'rupal', [2, 4], 4]"
      ]
     },
     "execution_count": 100,
     "metadata": {},
     "output_type": "execute_result"
    }
   ],
   "source": [
    "l2"
   ]
  },
  {
   "cell_type": "code",
   "execution_count": 112,
   "id": "eaeabb91-415c-4718-b2af-1c1befb8791e",
   "metadata": {},
   "outputs": [],
   "source": [
    "l2.reverse() #perm reverse"
   ]
  },
  {
   "cell_type": "code",
   "execution_count": 113,
   "id": "2aac82c6-1f1a-4153-a89f-591d718638f9",
   "metadata": {},
   "outputs": [
    {
     "data": {
      "text/plain": [
       "[4, [2, 4], 'rupal', 45]"
      ]
     },
     "execution_count": 113,
     "metadata": {},
     "output_type": "execute_result"
    }
   ],
   "source": [
    "l2"
   ]
  },
  {
   "cell_type": "code",
   "execution_count": 116,
   "id": "23d06e51-e8fe-4ec2-bf60-d93f21364997",
   "metadata": {},
   "outputs": [],
   "source": [
    "l2=l2[::-1] #perm reverse"
   ]
  },
  {
   "cell_type": "code",
   "execution_count": 117,
   "id": "d9d1779b-fb81-4040-ab85-dc23eb51f00c",
   "metadata": {},
   "outputs": [
    {
     "data": {
      "text/plain": [
       "[45, 'rupal', [2, 4], 4]"
      ]
     },
     "execution_count": 117,
     "metadata": {},
     "output_type": "execute_result"
    }
   ],
   "source": [
    "l2"
   ]
  },
  {
   "cell_type": "code",
   "execution_count": 119,
   "id": "cdd2c70c-aacf-4bba-8f77-3027f86deb5e",
   "metadata": {},
   "outputs": [
    {
     "data": {
      "text/plain": [
       "'pwskills'"
      ]
     },
     "execution_count": 119,
     "metadata": {},
     "output_type": "execute_result"
    }
   ],
   "source": [
    "s"
   ]
  },
  {
   "cell_type": "code",
   "execution_count": 121,
   "id": "4fa7f8a0-c42b-495a-b982-f9771c3d6ce6",
   "metadata": {},
   "outputs": [
    {
     "data": {
      "text/plain": [
       "1"
      ]
     },
     "execution_count": 121,
     "metadata": {},
     "output_type": "execute_result"
    }
   ],
   "source": [
    "s.index('w')"
   ]
  },
  {
   "cell_type": "code",
   "execution_count": 13,
   "id": "2dbc98dc-189a-4df1-a616-4c39d5b8596a",
   "metadata": {},
   "outputs": [],
   "source": [
    "s1='my name is rupal' "
   ]
  },
  {
   "cell_type": "code",
   "execution_count": 14,
   "id": "2137a3f6-c58f-4986-823d-a07cf6c5dfda",
   "metadata": {},
   "outputs": [
    {
     "data": {
      "text/plain": [
       "'my name is rupal'"
      ]
     },
     "execution_count": 14,
     "metadata": {},
     "output_type": "execute_result"
    }
   ],
   "source": [
    "s1"
   ]
  },
  {
   "cell_type": "code",
   "execution_count": 15,
   "id": "8ce53c3f-448f-4b5a-97ff-8101f4f1eeb0",
   "metadata": {},
   "outputs": [
    {
     "data": {
      "text/plain": [
       "3"
      ]
     },
     "execution_count": 15,
     "metadata": {},
     "output_type": "execute_result"
    }
   ],
   "source": [
    "s1.index('name')  #find index of 'name' str"
   ]
  },
  {
   "cell_type": "code",
   "execution_count": 33,
   "id": "b38ea039-462f-48d4-839b-fa7d41e5d3aa",
   "metadata": {},
   "outputs": [],
   "source": [
    "s=\"rupal\""
   ]
  },
  {
   "cell_type": "code",
   "execution_count": 34,
   "id": "a7541458-336e-4177-90c8-09bfd05c16b0",
   "metadata": {},
   "outputs": [
    {
     "data": {
      "text/plain": [
       "'rupal'"
      ]
     },
     "execution_count": 34,
     "metadata": {},
     "output_type": "execute_result"
    }
   ],
   "source": [
    "s"
   ]
  },
  {
   "cell_type": "code",
   "execution_count": 35,
   "id": "a00c2661-7bbf-459b-989d-bb2d3728ca00",
   "metadata": {},
   "outputs": [
    {
     "data": {
      "text/plain": [
       "'r'"
      ]
     },
     "execution_count": 35,
     "metadata": {},
     "output_type": "execute_result"
    }
   ],
   "source": [
    "s[0]"
   ]
  },
  {
   "cell_type": "code",
   "execution_count": 41,
   "id": "69515045-12b2-435a-b39e-415f3d1ae86e",
   "metadata": {},
   "outputs": [
    {
     "data": {
      "text/plain": [
       "'aupal'"
      ]
     },
     "execution_count": 41,
     "metadata": {},
     "output_type": "execute_result"
    }
   ],
   "source": [
    "s.replace('r','a') #replace 'r' with 'a'"
   ]
  },
  {
   "cell_type": "code",
   "execution_count": 42,
   "id": "2b7847a6-1dc8-408b-857f-b52f92ccf35d",
   "metadata": {},
   "outputs": [
    {
     "data": {
      "text/plain": [
       "'rupal'"
      ]
     },
     "execution_count": 42,
     "metadata": {},
     "output_type": "execute_result"
    }
   ],
   "source": [
    "s"
   ]
  },
  {
   "cell_type": "code",
   "execution_count": 43,
   "id": "5c60d906-f932-47b0-ad24-03b8d1b34ef9",
   "metadata": {},
   "outputs": [
    {
     "ename": "TypeError",
     "evalue": "'str' object does not support item assignment",
     "output_type": "error",
     "traceback": [
      "\u001b[0;31m---------------------------------------------------------------------------\u001b[0m",
      "\u001b[0;31mTypeError\u001b[0m                                 Traceback (most recent call last)",
      "Cell \u001b[0;32mIn [43], line 1\u001b[0m\n\u001b[0;32m----> 1\u001b[0m \u001b[43ms\u001b[49m\u001b[43m[\u001b[49m\u001b[38;5;241;43m0\u001b[39;49m\u001b[43m]\u001b[49m\u001b[38;5;241m=\u001b[39m\u001b[38;5;124m'\u001b[39m\u001b[38;5;124ma\u001b[39m\u001b[38;5;124m'\u001b[39m\n",
      "\u001b[0;31mTypeError\u001b[0m: 'str' object does not support item assignment"
     ]
    }
   ],
   "source": [
    "s[0]='a'"
   ]
  },
  {
   "cell_type": "code",
   "execution_count": 49,
   "id": "c859f6e1-b5ce-4bf4-b250-96253562277e",
   "metadata": {},
   "outputs": [],
   "source": [
    "l4=[3,4,5,6]"
   ]
  },
  {
   "cell_type": "code",
   "execution_count": 50,
   "id": "b903311f-69f2-4f70-a941-911ef7378c2a",
   "metadata": {},
   "outputs": [
    {
     "data": {
      "text/plain": [
       "[3, 4, 5, 6]"
      ]
     },
     "execution_count": 50,
     "metadata": {},
     "output_type": "execute_result"
    }
   ],
   "source": [
    "l4"
   ]
  },
  {
   "cell_type": "code",
   "execution_count": 51,
   "id": "a3d40c79-28c8-44bd-8514-e6ffe5f264d0",
   "metadata": {},
   "outputs": [],
   "source": [
    "l4[0]=30"
   ]
  },
  {
   "cell_type": "code",
   "execution_count": 52,
   "id": "936a76ef-2661-4dff-b86e-ddbc4980f920",
   "metadata": {},
   "outputs": [
    {
     "data": {
      "text/plain": [
       "[30, 4, 5, 6]"
      ]
     },
     "execution_count": 52,
     "metadata": {},
     "output_type": "execute_result"
    }
   ],
   "source": [
    "l4"
   ]
  },
  {
   "cell_type": "code",
   "execution_count": 53,
   "id": "50c3a58c-3d90-4dfc-81fe-ac3c81403419",
   "metadata": {},
   "outputs": [],
   "source": [
    "t=(2,3,4,5,\"rupal\",45.56,False,(45+457j),[3,4,5])"
   ]
  },
  {
   "cell_type": "code",
   "execution_count": 54,
   "id": "ec7e2248-d4c0-4d02-9892-d9fc83dfedfb",
   "metadata": {},
   "outputs": [
    {
     "data": {
      "text/plain": [
       "(2, 3, 4, 5, 'rupal', 45.56, False, (45+457j), [3, 4, 5])"
      ]
     },
     "execution_count": 54,
     "metadata": {},
     "output_type": "execute_result"
    }
   ],
   "source": [
    "t"
   ]
  },
  {
   "cell_type": "code",
   "execution_count": 56,
   "id": "91f6f576-dce5-47cb-b97e-0e128cd631ee",
   "metadata": {},
   "outputs": [
    {
     "data": {
      "text/plain": [
       "9"
      ]
     },
     "execution_count": 56,
     "metadata": {},
     "output_type": "execute_result"
    }
   ],
   "source": [
    "len(t)"
   ]
  },
  {
   "cell_type": "code",
   "execution_count": 57,
   "id": "3679214e-5646-4a1d-99fa-e56b1dc23a00",
   "metadata": {},
   "outputs": [
    {
     "data": {
      "text/plain": [
       "tuple"
      ]
     },
     "execution_count": 57,
     "metadata": {},
     "output_type": "execute_result"
    }
   ],
   "source": [
    "type(t)"
   ]
  },
  {
   "cell_type": "code",
   "execution_count": 58,
   "id": "624f8a63-f75f-425b-97d9-b6440aa6a6e5",
   "metadata": {},
   "outputs": [
    {
     "data": {
      "text/plain": [
       "2"
      ]
     },
     "execution_count": 58,
     "metadata": {},
     "output_type": "execute_result"
    }
   ],
   "source": [
    "t[0]"
   ]
  },
  {
   "cell_type": "code",
   "execution_count": 59,
   "id": "25332cba-3a49-4fda-a771-adc7e675d3bb",
   "metadata": {},
   "outputs": [
    {
     "data": {
      "text/plain": [
       "[3, 4, 5]"
      ]
     },
     "execution_count": 59,
     "metadata": {},
     "output_type": "execute_result"
    }
   ],
   "source": [
    "t[-1]"
   ]
  },
  {
   "cell_type": "code",
   "execution_count": 60,
   "id": "f644a225-d4c5-4a96-a7bb-008f720f8bd8",
   "metadata": {},
   "outputs": [
    {
     "data": {
      "text/plain": [
       "([3, 4, 5], (45+457j), False, 45.56, 'rupal', 5, 4, 3, 2)"
      ]
     },
     "execution_count": 60,
     "metadata": {},
     "output_type": "execute_result"
    }
   ],
   "source": [
    "t[::-1]"
   ]
  },
  {
   "cell_type": "code",
   "execution_count": 61,
   "id": "0561432e-845e-4def-aa6d-ed73c153a11b",
   "metadata": {},
   "outputs": [
    {
     "ename": "TypeError",
     "evalue": "'tuple' object does not support item assignment",
     "output_type": "error",
     "traceback": [
      "\u001b[0;31m---------------------------------------------------------------------------\u001b[0m",
      "\u001b[0;31mTypeError\u001b[0m                                 Traceback (most recent call last)",
      "Cell \u001b[0;32mIn [61], line 1\u001b[0m\n\u001b[0;32m----> 1\u001b[0m \u001b[43mt\u001b[49m\u001b[43m[\u001b[49m\u001b[38;5;241;43m0\u001b[39;49m\u001b[43m]\u001b[49m\u001b[38;5;241m=\u001b[39m\u001b[38;5;124m\"\u001b[39m\u001b[38;5;124mrupal\u001b[39m\u001b[38;5;124m\"\u001b[39m\n",
      "\u001b[0;31mTypeError\u001b[0m: 'tuple' object does not support item assignment"
     ]
    }
   ],
   "source": [
    "t[0]=\"rupal\""
   ]
  },
  {
   "cell_type": "code",
   "execution_count": 62,
   "id": "812ce7c9-78a7-4495-8957-2961d4177bb2",
   "metadata": {},
   "outputs": [
    {
     "data": {
      "text/plain": [
       "1"
      ]
     },
     "execution_count": 62,
     "metadata": {},
     "output_type": "execute_result"
    }
   ],
   "source": [
    "t.count(2)"
   ]
  },
  {
   "cell_type": "code",
   "execution_count": 63,
   "id": "cabb9882-3b5c-4ec0-9af2-9e02f45f2e63",
   "metadata": {},
   "outputs": [
    {
     "data": {
      "text/plain": [
       "6"
      ]
     },
     "execution_count": 63,
     "metadata": {},
     "output_type": "execute_result"
    }
   ],
   "source": [
    "t.index(False)"
   ]
  },
  {
   "cell_type": "code",
   "execution_count": 71,
   "id": "5d05090c-9459-4d4b-affe-cccc4fc546f1",
   "metadata": {},
   "outputs": [],
   "source": [
    "s0={}"
   ]
  },
  {
   "cell_type": "code",
   "execution_count": 72,
   "id": "cb78c44c-0085-4285-85ed-0ea2741bb238",
   "metadata": {},
   "outputs": [
    {
     "data": {
      "text/plain": [
       "dict"
      ]
     },
     "execution_count": 72,
     "metadata": {},
     "output_type": "execute_result"
    }
   ],
   "source": [
    "type(s0)"
   ]
  },
  {
   "cell_type": "code",
   "execution_count": 74,
   "id": "546d6782-2cdc-4413-9552-22a45d605a8b",
   "metadata": {},
   "outputs": [],
   "source": [
    "s2={2,3,4,5,6}"
   ]
  },
  {
   "cell_type": "code",
   "execution_count": 75,
   "id": "e01d242f-971e-435d-86d5-c3b839569505",
   "metadata": {},
   "outputs": [
    {
     "data": {
      "text/plain": [
       "set"
      ]
     },
     "execution_count": 75,
     "metadata": {},
     "output_type": "execute_result"
    }
   ],
   "source": [
    "type(s2)"
   ]
  },
  {
   "cell_type": "code",
   "execution_count": 77,
   "id": "097ec615-d5b4-48da-92fe-c30b847a6db2",
   "metadata": {},
   "outputs": [
    {
     "ename": "TypeError",
     "evalue": "unhashable type: 'list'",
     "output_type": "error",
     "traceback": [
      "\u001b[0;31m---------------------------------------------------------------------------\u001b[0m",
      "\u001b[0;31mTypeError\u001b[0m                                 Traceback (most recent call last)",
      "Cell \u001b[0;32mIn [77], line 1\u001b[0m\n\u001b[0;32m----> 1\u001b[0m s3\u001b[38;5;241m=\u001b[39m{\u001b[38;5;241m324\u001b[39m,\u001b[38;5;241m456\u001b[39m,\u001b[38;5;124m\"\u001b[39m\u001b[38;5;124mrupal\u001b[39m\u001b[38;5;124m\"\u001b[39m,\u001b[38;5;241m456\u001b[39m,\u001b[38;5;241m45\u001b[39m\u001b[38;5;241m+\u001b[39m\u001b[38;5;241m45\u001b[39mj,\u001b[38;5;241m2.34\u001b[39m,[\u001b[38;5;241m2\u001b[39m,\u001b[38;5;241m3\u001b[39m,\u001b[38;5;241m4\u001b[39m]}\n",
      "\u001b[0;31mTypeError\u001b[0m: unhashable type: 'list'"
     ]
    }
   ],
   "source": [
    "s3={324,456,\"rupal\",456,45+45j,2.34,[2,3,4]}"
   ]
  },
  {
   "cell_type": "code",
   "execution_count": 78,
   "id": "257894ac-2401-4d59-b031-b83cdb897e9a",
   "metadata": {},
   "outputs": [],
   "source": [
    "s3={324,456,\"rupal\",456,45+45j,2.34,(2,3,4)}"
   ]
  },
  {
   "cell_type": "code",
   "execution_count": 80,
   "id": "9d9980f4-e4c6-46ff-8a3c-6359b7f15c01",
   "metadata": {},
   "outputs": [
    {
     "data": {
      "text/plain": [
       "{(2, 3, 4), (45+45j), 2.34, 324, 456, 'rupal'}"
      ]
     },
     "execution_count": 80,
     "metadata": {},
     "output_type": "execute_result"
    }
   ],
   "source": [
    "s3"
   ]
  },
  {
   "cell_type": "code",
   "execution_count": 81,
   "id": "e703d775-e67f-4dcf-bae8-423d72677c6d",
   "metadata": {},
   "outputs": [],
   "source": [
    "s4={2,3,4,5,6,1,2,2,3,4,5,6,2,3,4,5,6}"
   ]
  },
  {
   "cell_type": "code",
   "execution_count": 82,
   "id": "5c034139-dbf7-4cad-994e-fd035d5aab31",
   "metadata": {},
   "outputs": [
    {
     "data": {
      "text/plain": [
       "{1, 2, 3, 4, 5, 6}"
      ]
     },
     "execution_count": 82,
     "metadata": {},
     "output_type": "execute_result"
    }
   ],
   "source": [
    "s4"
   ]
  },
  {
   "cell_type": "code",
   "execution_count": 83,
   "id": "32f2c695-e615-4ada-9646-cb0ed1035a9a",
   "metadata": {},
   "outputs": [],
   "source": [
    "s5={1,2,3,'Sudh','Sudh','sudh'}"
   ]
  },
  {
   "cell_type": "code",
   "execution_count": 84,
   "id": "27d61621-1c80-4576-a826-96f40675e3f1",
   "metadata": {},
   "outputs": [
    {
     "data": {
      "text/plain": [
       "{1, 2, 3, 'Sudh', 'sudh'}"
      ]
     },
     "execution_count": 84,
     "metadata": {},
     "output_type": "execute_result"
    }
   ],
   "source": [
    "s5"
   ]
  },
  {
   "cell_type": "code",
   "execution_count": 85,
   "id": "3dd94de6-5bdd-4d3b-9ec8-4e12c79feb47",
   "metadata": {},
   "outputs": [],
   "source": [
    "l5=[1,2,3,4,5,6,7,1,2,3,4,5,1,2,3]"
   ]
  },
  {
   "cell_type": "code",
   "execution_count": 86,
   "id": "f6364e17-0830-4a1f-bc1c-e4b9762cc051",
   "metadata": {},
   "outputs": [
    {
     "data": {
      "text/plain": [
       "[1, 2, 3, 4, 5, 6, 7, 1, 2, 3, 4, 5, 1, 2, 3]"
      ]
     },
     "execution_count": 86,
     "metadata": {},
     "output_type": "execute_result"
    }
   ],
   "source": [
    "l5"
   ]
  },
  {
   "cell_type": "code",
   "execution_count": 89,
   "id": "f7999dad-8906-42c0-ad63-275cee59100b",
   "metadata": {},
   "outputs": [
    {
     "data": {
      "text/plain": [
       "{1, 2, 3, 4, 5, 6, 7}"
      ]
     },
     "execution_count": 89,
     "metadata": {},
     "output_type": "execute_result"
    }
   ],
   "source": [
    "set(l5)"
   ]
  },
  {
   "cell_type": "code",
   "execution_count": 91,
   "id": "ca07d18c-5ad2-4a81-948a-8b55fde6c96c",
   "metadata": {},
   "outputs": [],
   "source": [
    "l5=set(l5)"
   ]
  },
  {
   "cell_type": "code",
   "execution_count": 92,
   "id": "0ab8a86a-97e9-4977-8fcd-d4e90bc6744e",
   "metadata": {},
   "outputs": [
    {
     "data": {
      "text/plain": [
       "{1, 2, 3, 4, 5, 6, 7}"
      ]
     },
     "execution_count": 92,
     "metadata": {},
     "output_type": "execute_result"
    }
   ],
   "source": [
    "l5"
   ]
  },
  {
   "cell_type": "code",
   "execution_count": 93,
   "id": "510b0d70-9dc5-40de-a406-c73604c71e83",
   "metadata": {},
   "outputs": [],
   "source": [
    "l5=list(set(l5))"
   ]
  },
  {
   "cell_type": "code",
   "execution_count": 94,
   "id": "64ffc98f-b3a7-4a76-83f9-ae98796dd516",
   "metadata": {},
   "outputs": [
    {
     "data": {
      "text/plain": [
       "[1, 2, 3, 4, 5, 6, 7]"
      ]
     },
     "execution_count": 94,
     "metadata": {},
     "output_type": "execute_result"
    }
   ],
   "source": [
    "l5"
   ]
  },
  {
   "cell_type": "code",
   "execution_count": 95,
   "id": "112a9893-6e74-4c40-b37f-a661ec6940ab",
   "metadata": {},
   "outputs": [
    {
     "data": {
      "text/plain": [
       "{1, 2, 3, 'Sudh', 'sudh'}"
      ]
     },
     "execution_count": 95,
     "metadata": {},
     "output_type": "execute_result"
    }
   ],
   "source": [
    "s5"
   ]
  },
  {
   "cell_type": "code",
   "execution_count": 96,
   "id": "b0040a26-16bc-49f5-88f7-50903626ad7c",
   "metadata": {},
   "outputs": [
    {
     "ename": "TypeError",
     "evalue": "'set' object is not subscriptable",
     "output_type": "error",
     "traceback": [
      "\u001b[0;31m---------------------------------------------------------------------------\u001b[0m",
      "\u001b[0;31mTypeError\u001b[0m                                 Traceback (most recent call last)",
      "Cell \u001b[0;32mIn [96], line 1\u001b[0m\n\u001b[0;32m----> 1\u001b[0m \u001b[43ms5\u001b[49m\u001b[43m[\u001b[49m\u001b[38;5;241;43m0\u001b[39;49m\u001b[43m]\u001b[49m\n",
      "\u001b[0;31mTypeError\u001b[0m: 'set' object is not subscriptable"
     ]
    }
   ],
   "source": [
    "s5[0]"
   ]
  },
  {
   "cell_type": "code",
   "execution_count": 97,
   "id": "c41394c8-4f50-4831-9098-c0c3144a7466",
   "metadata": {},
   "outputs": [
    {
     "ename": "TypeError",
     "evalue": "'set' object is not subscriptable",
     "output_type": "error",
     "traceback": [
      "\u001b[0;31m---------------------------------------------------------------------------\u001b[0m",
      "\u001b[0;31mTypeError\u001b[0m                                 Traceback (most recent call last)",
      "Cell \u001b[0;32mIn [97], line 1\u001b[0m\n\u001b[0;32m----> 1\u001b[0m \u001b[43ms5\u001b[49m\u001b[43m[\u001b[49m\u001b[43m:\u001b[49m\u001b[43m:\u001b[49m\u001b[38;5;241;43m-\u001b[39;49m\u001b[38;5;241;43m1\u001b[39;49m\u001b[43m]\u001b[49m\n",
      "\u001b[0;31mTypeError\u001b[0m: 'set' object is not subscriptable"
     ]
    }
   ],
   "source": [
    "s5[::-1]"
   ]
  },
  {
   "cell_type": "code",
   "execution_count": 98,
   "id": "17063963-1c91-44bc-b6bc-a905e4579d9f",
   "metadata": {},
   "outputs": [],
   "source": [
    "s5.add(4)"
   ]
  },
  {
   "cell_type": "code",
   "execution_count": 100,
   "id": "4fbc3d15-d6ae-45d9-bece-aec16dd80158",
   "metadata": {},
   "outputs": [
    {
     "data": {
      "text/plain": [
       "{1, 2, 3, 4, 'Sudh', 'sudh'}"
      ]
     },
     "execution_count": 100,
     "metadata": {},
     "output_type": "execute_result"
    }
   ],
   "source": [
    "s5"
   ]
  },
  {
   "cell_type": "code",
   "execution_count": 101,
   "id": "20f4d56b-93b5-4ed5-b50f-8bae735d2f21",
   "metadata": {},
   "outputs": [],
   "source": [
    "s5.remove(2)"
   ]
  },
  {
   "cell_type": "code",
   "execution_count": 102,
   "id": "fff1eb4e-2bec-4ec7-8386-758490242089",
   "metadata": {},
   "outputs": [
    {
     "data": {
      "text/plain": [
       "{1, 3, 4, 'Sudh', 'sudh'}"
      ]
     },
     "execution_count": 102,
     "metadata": {},
     "output_type": "execute_result"
    }
   ],
   "source": [
    "s5"
   ]
  },
  {
   "cell_type": "code",
   "execution_count": null,
   "id": "4f3cbc64-2914-441e-bd29-07223ed96aef",
   "metadata": {},
   "outputs": [],
   "source": []
  }
 ],
 "metadata": {
  "kernelspec": {
   "display_name": "Python 3 (ipykernel)",
   "language": "python",
   "name": "python3"
  },
  "language_info": {
   "codemirror_mode": {
    "name": "ipython",
    "version": 3
   },
   "file_extension": ".py",
   "mimetype": "text/x-python",
   "name": "python",
   "nbconvert_exporter": "python",
   "pygments_lexer": "ipython3",
   "version": "3.10.6"
  }
 },
 "nbformat": 4,
 "nbformat_minor": 5
}
