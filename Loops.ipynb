{
 "cells": [
  {
   "cell_type": "code",
   "execution_count": 1,
   "id": "0a957277-a7c3-4210-a5db-8cec6d9ae22a",
   "metadata": {},
   "outputs": [],
   "source": [
    "l=[1,2,3,4,5,6,7,8]"
   ]
  },
  {
   "cell_type": "code",
   "execution_count": 3,
   "id": "97fbe0f8-c9e8-49c3-a04a-44a5926af2fa",
   "metadata": {},
   "outputs": [
    {
     "name": "stdout",
     "output_type": "stream",
     "text": [
      "2\n",
      "3\n",
      "4\n",
      "5\n",
      "6\n",
      "7\n",
      "8\n",
      "9\n"
     ]
    },
    {
     "data": {
      "text/plain": [
       "[2, 3, 4, 5, 6, 7, 8, 9]"
      ]
     },
     "execution_count": 3,
     "metadata": {},
     "output_type": "execute_result"
    }
   ],
   "source": [
    "l1=[]\n",
    "for i in l:\n",
    "    print(i+1)\n",
    "    l1.append(i+1)\n",
    "l1"
   ]
  },
  {
   "cell_type": "code",
   "execution_count": 4,
   "id": "a2a911a9-d770-47eb-b739-84edc4a5fd31",
   "metadata": {},
   "outputs": [],
   "source": [
    "l=[\"rupal\",\"kunj\",\"pwskills\",\"course\"]"
   ]
  },
  {
   "cell_type": "code",
   "execution_count": 8,
   "id": "09791478-f7b8-4dcb-abf6-5182d7e63307",
   "metadata": {},
   "outputs": [
    {
     "data": {
      "text/plain": [
       "['RUPAL', 'KUNJ', 'PWSKILLS', 'COURSE']"
      ]
     },
     "execution_count": 8,
     "metadata": {},
     "output_type": "execute_result"
    }
   ],
   "source": [
    "l1=[]\n",
    "for i in l:\n",
    "    l1.append(i.upper())   \n",
    "l1"
   ]
  },
  {
   "cell_type": "code",
   "execution_count": 10,
   "id": "85dc8456-a6aa-4e15-9f6d-bb4f5b8dd62e",
   "metadata": {},
   "outputs": [],
   "source": [
    "l=[1,2,3,4,\"rupal\",\"kunj\",123.45,\"abc\"]"
   ]
  },
  {
   "cell_type": "code",
   "execution_count": 19,
   "id": "ac1c67d4-3720-43c1-9ffa-48a19e3e374d",
   "metadata": {},
   "outputs": [],
   "source": [
    "l1=[]\n",
    "l2=[]\n",
    "for i in l:\n",
    "    if type(i)==int or type(i)==float:\n",
    "        l1.append(i)\n",
    "    if type(i)==str:\n",
    "        l2.append(i)"
   ]
  },
  {
   "cell_type": "code",
   "execution_count": 20,
   "id": "0c22ddc4-3afd-45df-aadc-16e2791214d0",
   "metadata": {},
   "outputs": [
    {
     "data": {
      "text/plain": [
       "[1, 2, 3, 4, 123.45]"
      ]
     },
     "execution_count": 20,
     "metadata": {},
     "output_type": "execute_result"
    }
   ],
   "source": [
    "l1"
   ]
  },
  {
   "cell_type": "code",
   "execution_count": 21,
   "id": "7ab26e68-4e95-4fd1-8e69-35758ce09a02",
   "metadata": {},
   "outputs": [
    {
     "data": {
      "text/plain": [
       "['rupal', 'kunj', 'abc']"
      ]
     },
     "execution_count": 21,
     "metadata": {},
     "output_type": "execute_result"
    }
   ],
   "source": [
    "l2"
   ]
  },
  {
   "cell_type": "code",
   "execution_count": 22,
   "id": "c8167d1f-045a-48f0-836a-5f2fc0218bf2",
   "metadata": {},
   "outputs": [
    {
     "name": "stdout",
     "output_type": "stream",
     "text": [
      "rupal\n",
      "kunj\n",
      "course\n",
      "data sci\n",
      "if for loop is executed then only print this else part\n"
     ]
    }
   ],
   "source": [
    "l1=[\"rupal\",\"kunj\",\"course\",\"data sci\"]\n",
    "for i in l1:\n",
    "    print(i)\n",
    "else:\n",
    "    print(\"if for loop is executed then only print this else part\")"
   ]
  },
  {
   "cell_type": "code",
   "execution_count": 25,
   "id": "de173eb1-a1a2-434c-9192-eedee49063e2",
   "metadata": {},
   "outputs": [
    {
     "name": "stdout",
     "output_type": "stream",
     "text": [
      "rupal\n"
     ]
    }
   ],
   "source": [
    "for i in l1:\n",
    "    if i ==\"kunj\":\n",
    "        break\n",
    "    print(i)"
   ]
  },
  {
   "cell_type": "code",
   "execution_count": 26,
   "id": "54dcd4f8-ffb4-476e-8a9c-4576791ab5d5",
   "metadata": {},
   "outputs": [
    {
     "name": "stdout",
     "output_type": "stream",
     "text": [
      "rupal\n"
     ]
    }
   ],
   "source": [
    "for i in l1:\n",
    "    if i ==\"kunj\":\n",
    "        break\n",
    "    print(i)\n",
    "else:\n",
    "    print(\"loop completed\")"
   ]
  },
  {
   "cell_type": "code",
   "execution_count": 27,
   "id": "ab773bb4-39f1-4e50-b7af-005bd2c921d4",
   "metadata": {},
   "outputs": [
    {
     "name": "stdout",
     "output_type": "stream",
     "text": [
      "rupal\n",
      "course\n",
      "data sci\n"
     ]
    }
   ],
   "source": [
    "for i in l1:\n",
    "    if i==\"kunj\":\n",
    "        continue\n",
    "    print(i)"
   ]
  },
  {
   "cell_type": "code",
   "execution_count": 28,
   "id": "259ac370-61eb-4b58-826d-8800620db0b4",
   "metadata": {},
   "outputs": [
    {
     "name": "stdout",
     "output_type": "stream",
     "text": [
      "rupal\n",
      "course\n",
      "data sci\n",
      "if loop is completed then only execute this else part\n"
     ]
    }
   ],
   "source": [
    "for i in l1:\n",
    "    if i==\"kunj\":\n",
    "        continue\n",
    "    print(i)\n",
    "else:\n",
    "    print(\"if loop is completed then only execute this else part\")"
   ]
  },
  {
   "cell_type": "code",
   "execution_count": 29,
   "id": "c7c8e3b1-a211-438d-94de-3935e8000c71",
   "metadata": {},
   "outputs": [
    {
     "data": {
      "text/plain": [
       "range(0, 5)"
      ]
     },
     "execution_count": 29,
     "metadata": {},
     "output_type": "execute_result"
    }
   ],
   "source": [
    "range(5)"
   ]
  },
  {
   "cell_type": "code",
   "execution_count": 30,
   "id": "3fc387a1-1ae5-4d63-aa0b-9bb3dc979386",
   "metadata": {},
   "outputs": [
    {
     "data": {
      "text/plain": [
       "[0, 1, 2, 3, 4]"
      ]
     },
     "execution_count": 30,
     "metadata": {},
     "output_type": "execute_result"
    }
   ],
   "source": [
    "list (range(0,5))"
   ]
  },
  {
   "cell_type": "code",
   "execution_count": 31,
   "id": "3ca8a425-084c-4dbb-8acd-9bed75477a6c",
   "metadata": {},
   "outputs": [
    {
     "data": {
      "text/plain": [
       "range(0, 5)"
      ]
     },
     "execution_count": 31,
     "metadata": {},
     "output_type": "execute_result"
    }
   ],
   "source": [
    "range(0,5,1)"
   ]
  },
  {
   "cell_type": "code",
   "execution_count": 32,
   "id": "715c4403-5461-4e33-8989-37cfffee5429",
   "metadata": {},
   "outputs": [
    {
     "data": {
      "text/plain": [
       "[0, 1, 2, 3, 4]"
      ]
     },
     "execution_count": 32,
     "metadata": {},
     "output_type": "execute_result"
    }
   ],
   "source": [
    "list(range(0,5,1))"
   ]
  },
  {
   "cell_type": "code",
   "execution_count": 33,
   "id": "0e8a7c54-7742-49d2-8eae-0426651f66da",
   "metadata": {},
   "outputs": [
    {
     "data": {
      "text/plain": [
       "[0, 2, 4, 6, 8, 10, 12, 14, 16, 18]"
      ]
     },
     "execution_count": 33,
     "metadata": {},
     "output_type": "execute_result"
    }
   ],
   "source": [
    "list(range(0,20,2))"
   ]
  },
  {
   "cell_type": "code",
   "execution_count": 34,
   "id": "96e4022b-4516-4b43-a943-84333827ec70",
   "metadata": {},
   "outputs": [
    {
     "data": {
      "text/plain": [
       "[-10, -9, -8, -7, -6, -5, -4, -3, -2, -1]"
      ]
     },
     "execution_count": 34,
     "metadata": {},
     "output_type": "execute_result"
    }
   ],
   "source": [
    "list(range(-10,0))"
   ]
  },
  {
   "cell_type": "code",
   "execution_count": 39,
   "id": "8b89970a-37f8-4436-96c3-59554e467a7e",
   "metadata": {},
   "outputs": [
    {
     "name": "stdout",
     "output_type": "stream",
     "text": [
      "rupal\n",
      "kunj\n",
      "course\n",
      "data sci\n"
     ]
    }
   ],
   "source": [
    "l1=['rupal','kunj','course','data sci']\n",
    "for i in range(0,len(l1)):\n",
    "    print(l1[i])"
   ]
  },
  {
   "cell_type": "code",
   "execution_count": 41,
   "id": "4cefa253-2e99-4873-8e07-29647890b9dc",
   "metadata": {},
   "outputs": [
    {
     "name": "stdout",
     "output_type": "stream",
     "text": [
      "data sci\n",
      "course\n",
      "kunj\n",
      "rupal\n"
     ]
    }
   ],
   "source": [
    "l1=['rupal','kunj','course','data sci']\n",
    "for i in range(len(l1)-1,-1,-1):\n",
    "    print(l1[i])"
   ]
  },
  {
   "cell_type": "code",
   "execution_count": 47,
   "id": "039a7385-c991-4795-a87c-7fae200f6b51",
   "metadata": {},
   "outputs": [
    {
     "name": "stdout",
     "output_type": "stream",
     "text": [
      "1\n",
      "3\n",
      "5\n"
     ]
    }
   ],
   "source": [
    "l2=[1,2,3,4,5,6]\n",
    "for i in range(0,len(l2),2):\n",
    "    print(l2[i])"
   ]
  },
  {
   "cell_type": "code",
   "execution_count": 48,
   "id": "54f99a53-ec41-4ad7-9a51-e8bb0936b193",
   "metadata": {},
   "outputs": [
    {
     "name": "stdout",
     "output_type": "stream",
     "text": [
      "36\n"
     ]
    }
   ],
   "source": [
    "l=[1,2,3,4,5,6,7,8]\n",
    "sum=0\n",
    "for i in l:\n",
    "    sum=sum+i\n",
    "print(sum)"
   ]
  },
  {
   "cell_type": "code",
   "execution_count": 50,
   "id": "3fd7291a-4c64-4b5e-b58c-df5f62b38d0c",
   "metadata": {},
   "outputs": [
    {
     "name": "stdout",
     "output_type": "stream",
     "text": [
      "p\n",
      "w\n",
      "s\n",
      "k\n",
      "i\n",
      "l\n",
      "l\n",
      "s\n"
     ]
    }
   ],
   "source": [
    "s1=\"pwskills\"  #khud hi index le leta h\n",
    "for i in s1:\n",
    "    print(i)"
   ]
  },
  {
   "cell_type": "code",
   "execution_count": 52,
   "id": "e29718a7-d1ac-4d04-b2c5-4b8673ca81ad",
   "metadata": {},
   "outputs": [
    {
     "name": "stdout",
     "output_type": "stream",
     "text": [
      "rupal\n",
      "data sci masters\n",
      "['python', 'stats', 'ML', 'DL', 'CV', 'NLP', 'resume']\n"
     ]
    }
   ],
   "source": [
    "d={\"name\":\"rupal\",\"class\":\"data sci masters\",\"topic\":[\"python\",\"stats\",\"ML\",\"DL\",\"CV\",\"NLP\",\"resume\"]}\n",
    "for i in d.keys():\n",
    "    print(d[i])"
   ]
  },
  {
   "cell_type": "code",
   "execution_count": 53,
   "id": "de886277-2316-401a-82fc-0f475599c0d7",
   "metadata": {},
   "outputs": [
    {
     "name": "stdout",
     "output_type": "stream",
     "text": [
      "rupal\n",
      "data sci masters\n",
      "['python', 'stats', 'ML', 'DL', 'CV', 'NLP', 'resume']\n"
     ]
    }
   ],
   "source": [
    "for i in d.values():\n",
    "    print(i)"
   ]
  },
  {
   "cell_type": "code",
   "execution_count": 54,
   "id": "bd91234c-d5aa-4629-a446-0c2308a2beee",
   "metadata": {},
   "outputs": [
    {
     "name": "stdout",
     "output_type": "stream",
     "text": [
      "('name', 'rupal')\n",
      "('class', 'data sci masters')\n",
      "('topic', ['python', 'stats', 'ML', 'DL', 'CV', 'NLP', 'resume'])\n"
     ]
    }
   ],
   "source": [
    "for i in d.items():\n",
    "    print(i)"
   ]
  },
  {
   "cell_type": "code",
   "execution_count": 55,
   "id": "83e79a9a-0063-489e-a7b0-da24c067615e",
   "metadata": {},
   "outputs": [
    {
     "name": "stdout",
     "output_type": "stream",
     "text": [
      "1\n",
      "2\n",
      "3\n",
      "4\n",
      "5\n",
      "6\n",
      "7\n",
      "8\n",
      "9\n",
      "10\n"
     ]
    }
   ],
   "source": [
    "a=1\n",
    "while a<=10:\n",
    "    print(a)\n",
    "    a=a+1"
   ]
  },
  {
   "cell_type": "code",
   "execution_count": 62,
   "id": "3631cc4a-83dc-4c83-8472-dc55fd1470c4",
   "metadata": {},
   "outputs": [
    {
     "name": "stdin",
     "output_type": "stream",
     "text": [
      "Enter your limit: 5\n"
     ]
    },
    {
     "data": {
      "text/plain": [
       "15"
      ]
     },
     "execution_count": 62,
     "metadata": {},
     "output_type": "execute_result"
    }
   ],
   "source": [
    "n=int(input(\"Enter your limit:\"))\n",
    "sum,a=0,0\n",
    "while(a<=n):\n",
    "    sum=sum+a\n",
    "    a=a+1\n",
    "sum"
   ]
  },
  {
   "cell_type": "code",
   "execution_count": 65,
   "id": "986b1e21-e114-40d6-9de7-1ecfc88c0917",
   "metadata": {},
   "outputs": [
    {
     "name": "stdin",
     "output_type": "stream",
     "text": [
      "Enter a number 5\n"
     ]
    },
    {
     "data": {
      "text/plain": [
       "120"
      ]
     },
     "execution_count": 65,
     "metadata": {},
     "output_type": "execute_result"
    }
   ],
   "source": [
    "n=int(input(\"Enter a number\"))\n",
    "fact=1\n",
    "while(n!=1):\n",
    "    fact=fact*n\n",
    "    n=n-1\n",
    "fact"
   ]
  },
  {
   "cell_type": "code",
   "execution_count": 66,
   "id": "fe501a2b-771d-442a-a1d8-ba420bcbef2b",
   "metadata": {},
   "outputs": [
    {
     "name": "stdin",
     "output_type": "stream",
     "text": [
      "Enter the number of elements you are looking for: 5\n"
     ]
    },
    {
     "name": "stdout",
     "output_type": "stream",
     "text": [
      "0\n",
      "1\n",
      "1\n",
      "2\n",
      "3\n"
     ]
    }
   ],
   "source": [
    "n=int(input(\"Enter the number of elements you are looking for:\"))\n",
    "a=0\n",
    "b=1\n",
    "counter=0\n",
    "while(counter<n):\n",
    "      print(a)\n",
    "      c=a+b\n",
    "      a=b\n",
    "      b=c\n",
    "      counter=counter+1"
   ]
  },
  {
   "cell_type": "code",
   "execution_count": 68,
   "id": "60bef845-d628-4854-92f1-980883125f67",
   "metadata": {},
   "outputs": [
    {
     "name": "stdin",
     "output_type": "stream",
     "text": [
      "Enter the number of elements you are looking for: 5\n"
     ]
    },
    {
     "name": "stdout",
     "output_type": "stream",
     "text": [
      "0\n",
      "1\n",
      "1\n",
      "2\n",
      "3\n"
     ]
    }
   ],
   "source": [
    "n=int(input(\"Enter the number of elements you are looking for:\"))\n",
    "a=0\n",
    "b=1\n",
    "for i in range(0,n):\n",
    "    print(a)\n",
    "    c=a+b\n",
    "    a=b\n",
    "    b=c"
   ]
  },
  {
   "cell_type": "code",
   "execution_count": 69,
   "id": "22c64651-402c-4ecc-94d0-d0019ea09990",
   "metadata": {},
   "outputs": [
    {
     "name": "stdin",
     "output_type": "stream",
     "text": [
      "Enter string for reversal rupal\n"
     ]
    },
    {
     "name": "stdout",
     "output_type": "stream",
     "text": [
      "lapur\n"
     ]
    }
   ],
   "source": [
    "word=input(\"Enter string for reversal\")\n",
    "reverse=''\n",
    "length=len(word)\n",
    "while(length>0):\n",
    "    reverse=reverse+word[length-1]\n",
    "    length=length-1\n",
    "print(reverse)"
   ]
  },
  {
   "cell_type": "code",
   "execution_count": 77,
   "id": "a2a8a513-0bc9-4a30-b030-8227690c4947",
   "metadata": {},
   "outputs": [
    {
     "name": "stdin",
     "output_type": "stream",
     "text": [
      "Enter string for reversal rupal\n"
     ]
    },
    {
     "name": "stdout",
     "output_type": "stream",
     "text": [
      "l\n",
      "a\n",
      "p\n",
      "u\n",
      "r\n"
     ]
    }
   ],
   "source": [
    "word=input(\"Enter string for reversal\")\n",
    "length=len(word)\n",
    "for i in range(length-1,-1,-1):\n",
    "    print(word[i])"
   ]
  },
  {
   "cell_type": "code",
   "execution_count": null,
   "id": "4c827b7f-7ac2-4014-9b6f-46e3e61f6459",
   "metadata": {},
   "outputs": [],
   "source": [
    "n=6\n",
    "i=1\n",
    "while(i<=10):\n",
    "    print(n*i)\n",
    "    i=i+1"
   ]
  },
  {
   "cell_type": "code",
   "execution_count": null,
   "id": "041c5b9b-f98d-49ec-ac04-f607c3ec6d73",
   "metadata": {},
   "outputs": [],
   "source": [
    "n=5\n",
    "i=1\n",
    "while i<n:\n",
    "    print(i)\n",
    "    if i==4:\n",
    "        break\n",
    "    i=i+1\n",
    "else:\n",
    "    print(\"print if while is executed\")"
   ]
  },
  {
   "cell_type": "code",
   "execution_count": null,
   "id": "519d889f-c5dd-40c5-9ebe-166ed71ac58b",
   "metadata": {},
   "outputs": [],
   "source": []
  }
 ],
 "metadata": {
  "kernelspec": {
   "display_name": "Python 3 (ipykernel)",
   "language": "python",
   "name": "python3"
  },
  "language_info": {
   "codemirror_mode": {
    "name": "ipython",
    "version": 3
   },
   "file_extension": ".py",
   "mimetype": "text/x-python",
   "name": "python",
   "nbconvert_exporter": "python",
   "pygments_lexer": "ipython3",
   "version": "3.10.6"
  }
 },
 "nbformat": 4,
 "nbformat_minor": 5
}
