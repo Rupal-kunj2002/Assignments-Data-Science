{
 "cells": [
  {
   "cell_type": "code",
   "execution_count": 1,
   "id": "20876766-5c12-4c4f-a9d0-71750682c0b7",
   "metadata": {},
   "outputs": [],
   "source": [
    "d={}"
   ]
  },
  {
   "cell_type": "code",
   "execution_count": 2,
   "id": "755338bf-af95-4da2-9bd0-cc5af4b18e7e",
   "metadata": {},
   "outputs": [
    {
     "data": {
      "text/plain": [
       "dict"
      ]
     },
     "execution_count": 2,
     "metadata": {},
     "output_type": "execute_result"
    }
   ],
   "source": [
    "type(d)"
   ]
  },
  {
   "cell_type": "code",
   "execution_count": 7,
   "id": "86dbf550-80cf-4353-98de-de384143c2bf",
   "metadata": {},
   "outputs": [],
   "source": [
    "d1={'key':'rupal'}"
   ]
  },
  {
   "cell_type": "code",
   "execution_count": 8,
   "id": "859c95c5-3018-4cb4-a3d0-3896d1d7368c",
   "metadata": {},
   "outputs": [],
   "source": [
    "d2={'name':'rupal','email':'rk@gmail.com','number':8637026864}"
   ]
  },
  {
   "cell_type": "code",
   "execution_count": 9,
   "id": "aa9ff86a-9f95-4474-ad91-9b97c52c3afe",
   "metadata": {},
   "outputs": [
    {
     "ename": "SyntaxError",
     "evalue": "invalid syntax (4230282324.py, line 1)",
     "output_type": "error",
     "traceback": [
      "\u001b[0;36m  Cell \u001b[0;32mIn [9], line 1\u001b[0;36m\u001b[0m\n\u001b[0;31m    d3={234:'rupal',@rup:\"kunj\",True:2434}\u001b[0m\n\u001b[0m                    ^\u001b[0m\n\u001b[0;31mSyntaxError\u001b[0m\u001b[0;31m:\u001b[0m invalid syntax\n"
     ]
    }
   ],
   "source": [
    "d3={234:'rupal',@rup:\"kunj\",True:2434}"
   ]
  },
  {
   "cell_type": "code",
   "execution_count": 10,
   "id": "7a309f04-5512-4b49-99aa-96499dc0ebc8",
   "metadata": {},
   "outputs": [],
   "source": [
    "d3={234:'rupal','rup':\"kunj\",True:2434}"
   ]
  },
  {
   "cell_type": "code",
   "execution_count": 11,
   "id": "e242b6c1-53a7-4391-8bda-00d9728ffcc9",
   "metadata": {},
   "outputs": [
    {
     "data": {
      "text/plain": [
       "'rupal'"
      ]
     },
     "execution_count": 11,
     "metadata": {},
     "output_type": "execute_result"
    }
   ],
   "source": [
    "d3[234]"
   ]
  },
  {
   "cell_type": "code",
   "execution_count": 12,
   "id": "2d61b7be-0bbd-4ebe-9586-d180f5e27cbd",
   "metadata": {},
   "outputs": [
    {
     "data": {
      "text/plain": [
       "2434"
      ]
     },
     "execution_count": 12,
     "metadata": {},
     "output_type": "execute_result"
    }
   ],
   "source": [
    "d3[True]"
   ]
  },
  {
   "cell_type": "code",
   "execution_count": 13,
   "id": "a0c6c348-f4a5-4742-9234-7c8436a48d17",
   "metadata": {},
   "outputs": [
    {
     "data": {
      "text/plain": [
       "2434"
      ]
     },
     "execution_count": 13,
     "metadata": {},
     "output_type": "execute_result"
    }
   ],
   "source": [
    "d3[1]"
   ]
  },
  {
   "cell_type": "code",
   "execution_count": 14,
   "id": "22856260-6b3f-4b19-8473-d4bd525f2d44",
   "metadata": {},
   "outputs": [],
   "source": [
    "d4={'name':'rupal','name':'rupu'}"
   ]
  },
  {
   "cell_type": "code",
   "execution_count": 15,
   "id": "b889da5f-2696-44dc-8bd2-d8ba90c4d746",
   "metadata": {},
   "outputs": [
    {
     "data": {
      "text/plain": [
       "'rupu'"
      ]
     },
     "execution_count": 15,
     "metadata": {},
     "output_type": "execute_result"
    }
   ],
   "source": [
    "d4['name']"
   ]
  },
  {
   "cell_type": "code",
   "execution_count": 16,
   "id": "e911df94-ce2d-4136-b13b-6a2a9d1a75b7",
   "metadata": {},
   "outputs": [],
   "source": [
    "d5={'company':'pwskills','course':['web dev','Dsa','data science']}"
   ]
  },
  {
   "cell_type": "code",
   "execution_count": 17,
   "id": "aa1afcf0-9f77-47f0-ac51-1ef5ac755937",
   "metadata": {},
   "outputs": [
    {
     "data": {
      "text/plain": [
       "'data science'"
      ]
     },
     "execution_count": 17,
     "metadata": {},
     "output_type": "execute_result"
    }
   ],
   "source": [
    "d5['course'][2]"
   ]
  },
  {
   "cell_type": "code",
   "execution_count": 18,
   "id": "c26427c1-4e6a-4c08-9d5a-5d0b36b6bae7",
   "metadata": {},
   "outputs": [],
   "source": [
    "d6={'number':[2,34,3,34,34],'assignment':(1,2,3,4,5,6),'launch late':{28,12,14},'class timing':{'web dev':8,'data sci':8,'DSA':7}}"
   ]
  },
  {
   "cell_type": "code",
   "execution_count": 19,
   "id": "613ae1b1-4366-49f9-9570-7890528fab5c",
   "metadata": {},
   "outputs": [
    {
     "data": {
      "text/plain": [
       "{'number': [2, 34, 3, 34, 34],\n",
       " 'assignment': (1, 2, 3, 4, 5, 6),\n",
       " 'launch late': {12, 14, 28},\n",
       " 'class timing': {'web dev': 8, 'data sci': 8, 'DSA': 7}}"
      ]
     },
     "execution_count": 19,
     "metadata": {},
     "output_type": "execute_result"
    }
   ],
   "source": [
    "d6"
   ]
  },
  {
   "cell_type": "code",
   "execution_count": 20,
   "id": "481588b9-d2f5-401b-97fb-681cdd2c170e",
   "metadata": {},
   "outputs": [
    {
     "data": {
      "text/plain": [
       "7"
      ]
     },
     "execution_count": 20,
     "metadata": {},
     "output_type": "execute_result"
    }
   ],
   "source": [
    "d6['class timing']['DSA']"
   ]
  },
  {
   "cell_type": "code",
   "execution_count": 21,
   "id": "925bef3e-9ea7-4c24-bbc2-b47caf977f2c",
   "metadata": {},
   "outputs": [],
   "source": [
    "d6['mentor']=['sudhanshu sir','krish sir']"
   ]
  },
  {
   "cell_type": "code",
   "execution_count": 22,
   "id": "a8194fe2-7a3d-45bd-bfd3-c9bea91fd37c",
   "metadata": {},
   "outputs": [
    {
     "data": {
      "text/plain": [
       "{'number': [2, 34, 3, 34, 34],\n",
       " 'assignment': (1, 2, 3, 4, 5, 6),\n",
       " 'launch late': {12, 14, 28},\n",
       " 'class timing': {'web dev': 8, 'data sci': 8, 'DSA': 7},\n",
       " 'mentor': ['sudhanshu sir', 'krish sir']}"
      ]
     },
     "execution_count": 22,
     "metadata": {},
     "output_type": "execute_result"
    }
   ],
   "source": [
    "d6"
   ]
  },
  {
   "cell_type": "code",
   "execution_count": 23,
   "id": "a71f2d00-ff67-46b6-9c49-2eaecc7da541",
   "metadata": {},
   "outputs": [],
   "source": [
    "del d6['number']"
   ]
  },
  {
   "cell_type": "code",
   "execution_count": 24,
   "id": "7ebcc8f7-c239-48b7-b951-6abe79d10c6c",
   "metadata": {},
   "outputs": [
    {
     "data": {
      "text/plain": [
       "{'assignment': (1, 2, 3, 4, 5, 6),\n",
       " 'launch late': {12, 14, 28},\n",
       " 'class timing': {'web dev': 8, 'data sci': 8, 'DSA': 7},\n",
       " 'mentor': ['sudhanshu sir', 'krish sir']}"
      ]
     },
     "execution_count": 24,
     "metadata": {},
     "output_type": "execute_result"
    }
   ],
   "source": [
    "d6"
   ]
  },
  {
   "cell_type": "code",
   "execution_count": 25,
   "id": "0aadcf77-5701-49bd-95aa-e21cf0b52c13",
   "metadata": {},
   "outputs": [
    {
     "data": {
      "text/plain": [
       "['assignment', 'launch late', 'class timing', 'mentor']"
      ]
     },
     "execution_count": 25,
     "metadata": {},
     "output_type": "execute_result"
    }
   ],
   "source": [
    "list(d6.keys())"
   ]
  },
  {
   "cell_type": "code",
   "execution_count": 26,
   "id": "44f5eade-5980-4810-bd95-9ff64d659c0d",
   "metadata": {},
   "outputs": [
    {
     "data": {
      "text/plain": [
       "[(1, 2, 3, 4, 5, 6),\n",
       " {12, 14, 28},\n",
       " {'web dev': 8, 'data sci': 8, 'DSA': 7},\n",
       " ['sudhanshu sir', 'krish sir']]"
      ]
     },
     "execution_count": 26,
     "metadata": {},
     "output_type": "execute_result"
    }
   ],
   "source": [
    "list(d6.values())"
   ]
  },
  {
   "cell_type": "code",
   "execution_count": 27,
   "id": "0cc55d9d-7fae-4c69-a2e8-a2579bd07a51",
   "metadata": {},
   "outputs": [
    {
     "data": {
      "text/plain": [
       "[('assignment', (1, 2, 3, 4, 5, 6)),\n",
       " ('launch late', {12, 14, 28}),\n",
       " ('class timing', {'web dev': 8, 'data sci': 8, 'DSA': 7}),\n",
       " ('mentor', ['sudhanshu sir', 'krish sir'])]"
      ]
     },
     "execution_count": 27,
     "metadata": {},
     "output_type": "execute_result"
    }
   ],
   "source": [
    "list(d6.items())"
   ]
  },
  {
   "cell_type": "code",
   "execution_count": 28,
   "id": "ba2d696c-4fb9-4c49-b653-fdf3d88f72d1",
   "metadata": {},
   "outputs": [
    {
     "data": {
      "text/plain": [
       "(1, 2, 3, 4, 5, 6)"
      ]
     },
     "execution_count": 28,
     "metadata": {},
     "output_type": "execute_result"
    }
   ],
   "source": [
    "d6.pop('assignment')"
   ]
  },
  {
   "cell_type": "code",
   "execution_count": 29,
   "id": "2cb86406-9e0c-4a47-8e17-d0a42c46885a",
   "metadata": {},
   "outputs": [
    {
     "data": {
      "text/plain": [
       "{'launch late': {12, 14, 28},\n",
       " 'class timing': {'web dev': 8, 'data sci': 8, 'DSA': 7},\n",
       " 'mentor': ['sudhanshu sir', 'krish sir']}"
      ]
     },
     "execution_count": 29,
     "metadata": {},
     "output_type": "execute_result"
    }
   ],
   "source": [
    "d6"
   ]
  },
  {
   "cell_type": "code",
   "execution_count": 30,
   "id": "51bb6de7-5689-4bba-8f77-0c96bb9e1fc9",
   "metadata": {},
   "outputs": [
    {
     "name": "stdin",
     "output_type": "stream",
     "text": [
      "Enter marks: 70\n"
     ]
    },
    {
     "name": "stdout",
     "output_type": "stream",
     "text": [
      "You will be in A1 batch\n"
     ]
    }
   ],
   "source": [
    "marks=int(input(\"Enter marks:\"))\n",
    "if marks>=80:\n",
    "    print(\"You will be in A0 batch\")\n",
    "elif marks>=60 and marks<80:\n",
    "    print(\"You will be in A1 batch\")\n",
    "elif marks>=40 or marks<60:\n",
    "    print(\"You will be in A2 batch\")\n",
    "else:\n",
    "    print(\"You will be in A3 batch\")"
   ]
  },
  {
   "cell_type": "code",
   "execution_count": null,
   "id": "68fe3053-dec7-4ecf-9400-461c6fcb9eaf",
   "metadata": {},
   "outputs": [],
   "source": []
  }
 ],
 "metadata": {
  "kernelspec": {
   "display_name": "Python 3 (ipykernel)",
   "language": "python",
   "name": "python3"
  },
  "language_info": {
   "codemirror_mode": {
    "name": "ipython",
    "version": 3
   },
   "file_extension": ".py",
   "mimetype": "text/x-python",
   "name": "python",
   "nbconvert_exporter": "python",
   "pygments_lexer": "ipython3",
   "version": "3.10.6"
  }
 },
 "nbformat": 4,
 "nbformat_minor": 5
}
